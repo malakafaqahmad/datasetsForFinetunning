{
  "cells": [
    {
      "cell_type": "markdown",
      "metadata": {
        "id": "VSedV7c9JB_r"
      },
      "source": [
        "**THIS PEICE OF CODE DEMONSTRATES HOW YOU CAN PLAY ARROUND WITH CERTAIN DATASETS ON HUGGINGFACE AND MAKE THEM SUITABLE FOR FINETUNNING WITH GEMMA SPECIFICALLY**"
      ]
    },
    {
      "cell_type": "code",
      "execution_count": 1,
      "metadata": {
        "colab": {
          "base_uri": "https://localhost:8080/"
        },
        "id": "bDfTDJOGfS4p",
        "outputId": "df1913fd-3bf6-4f98-ca4e-6b2bffa7479a"
      },
      "outputs": [
        {
          "name": "stdout",
          "output_type": "stream",
          "text": [
            "\u001b[2K     \u001b[90m━━━━━━━━━━━━━━━━━━━━━━━━━━━━━━━━━━━━━━━━\u001b[0m \u001b[32m536.6/536.6 kB\u001b[0m \u001b[31m4.4 MB/s\u001b[0m eta \u001b[36m0:00:00\u001b[0m\n",
            "\u001b[2K     \u001b[90m━━━━━━━━━━━━━━━━━━━━━━━━━━━━━━━━━━━━━━━━\u001b[0m \u001b[32m116.3/116.3 kB\u001b[0m \u001b[31m6.7 MB/s\u001b[0m eta \u001b[36m0:00:00\u001b[0m\n",
            "\u001b[2K     \u001b[90m━━━━━━━━━━━━━━━━━━━━━━━━━━━━━━━━━━━━━━━━\u001b[0m \u001b[32m194.1/194.1 kB\u001b[0m \u001b[31m6.2 MB/s\u001b[0m eta \u001b[36m0:00:00\u001b[0m\n",
            "\u001b[2K     \u001b[90m━━━━━━━━━━━━━━━━━━━━━━━━━━━━━━━━━━━━━━━━\u001b[0m \u001b[32m134.8/134.8 kB\u001b[0m \u001b[31m4.4 MB/s\u001b[0m eta \u001b[36m0:00:00\u001b[0m\n",
            "\u001b[?25h"
          ]
        }
      ],
      "source": [
        "!pip3 install -q -U datasets==2.17.0\n",
        "from datasets import load_dataset\n"
      ]
    },
    {
      "cell_type": "code",
      "execution_count": null,
      "metadata": {
        "id": "NLaPLfYhfbQJ"
      },
      "outputs": [],
      "source": [
        "dataset1 = load_dataset(\"TokenBender/code_instructions_122k_alpaca_style\", split=\"train\")\n",
        "dataset2 = load_dataset(\"iamtarun/python_code_instructions_18k_alpaca\", split=\"train\")\n",
        "dataset4 = load_dataset(\"ajibawa-2023/Python-Code-23k-ShareGPT\", split=\"train\")\n",
        "dataset6 = load_dataset(\"flytech/python-codes-25k\", split=\"train\")\n",
        "\n",
        "dataset5 = load_dataset(\"TacoPrime/errored_python\", split=\"train\")\n",
        "dataset3 = load_dataset(\"Fraser/python-state-changes\", split=\"train\")\n",
        "\n",
        "dataset7 = load_dataset(\"espejelomar/code_search_net_python_10000_examples\")\n",
        "dataset8 = load_dataset(\"Programming-Language/codeagent-python\")"
      ]
    },
    {
      "cell_type": "code",
      "execution_count": 4,
      "metadata": {
        "id": "Du2a6XEJhuK-"
      },
      "outputs": [],
      "source": [
        "dataset7 = load_dataset(\"espejelomar/code_search_net_python_10000_examples\", split = 'train')\n",
        "dataset8 = load_dataset(\"Programming-Language/codeagent-python\", split = 'train')"
      ]
    },
    {
      "cell_type": "code",
      "execution_count": 5,
      "metadata": {
        "id": "3d3U_YsPfvYq"
      },
      "outputs": [],
      "source": [
        "df1 = dataset1.to_pandas()\n",
        "df2 = dataset2.to_pandas()\n",
        "df3 = dataset3.to_pandas()\n",
        "df4 = dataset4.to_pandas()\n",
        "df5 = dataset5.to_pandas()\n",
        "df6 = dataset6.to_pandas()\n",
        "df7 = dataset7.to_pandas()\n",
        "df8 = dataset8.to_pandas()\n"
      ]
    },
    {
      "cell_type": "code",
      "execution_count": 6,
      "metadata": {
        "colab": {
          "base_uri": "https://localhost:8080/"
        },
        "id": "MrdoJf1MgJvi",
        "outputId": "db641189-212f-4e3c-b518-457f8704312e"
      },
      "outputs": [
        {
          "name": "stdout",
          "output_type": "stream",
          "text": [
            "Dataset({\n",
            "    features: ['instruction', 'output', 'text', 'input'],\n",
            "    num_rows: 121959\n",
            "})\n",
            "Dataset({\n",
            "    features: ['instruction', 'input', 'output', 'prompt'],\n",
            "    num_rows: 18612\n",
            "})\n",
            "Dataset({\n",
            "    features: ['start', 'code', 'end'],\n",
            "    num_rows: 8960896\n",
            "})\n",
            "Dataset({\n",
            "    features: ['id', 'conversations'],\n",
            "    num_rows: 22608\n",
            "})\n",
            "Dataset({\n",
            "    features: ['Unnamed: 0', 'train'],\n",
            "    num_rows: 10198\n",
            "})\n",
            "Dataset({\n",
            "    features: ['instruction', 'output', 'text', 'input'],\n",
            "    num_rows: 49626\n",
            "})\n",
            "Dataset({\n",
            "    features: ['Unnamed: 0', 'repository_name', 'func_path_in_repository', 'func_name', 'whole_func_string', 'language', 'func_code_string', 'func_code_tokens', 'func_documentation_string', 'func_documentation_tokens', 'split_name', 'func_code_url'],\n",
            "    num_rows: 10000\n",
            "})\n",
            "Dataset({\n",
            "    features: ['prompt', 'response'],\n",
            "    num_rows: 296837\n",
            "})\n"
          ]
        }
      ],
      "source": [
        "print(dataset1)\n",
        "print(dataset2)\n",
        "print(dataset3)\n",
        "print(dataset4)\n",
        "print(dataset5)\n",
        "print(dataset6)\n",
        "print(dataset7)\n",
        "print(dataset8)"
      ]
    },
    {
      "cell_type": "code",
      "execution_count": 10,
      "metadata": {
        "id": "go0FyodGgqtL"
      },
      "outputs": [],
      "source": [
        "instruction = []\n",
        "input = []\n",
        "output = []"
      ]
    },
    {
      "cell_type": "code",
      "execution_count": null,
      "metadata": {
        "id": "m0OCFoBEljfq"
      },
      "outputs": [],
      "source": []
    },
    {
      "cell_type": "markdown",
      "metadata": {
        "id": "T6-wTHrkliAH"
      },
      "source": [
        "**DATASET 1,2 AND 6 are handled here in the first part**"
      ]
    },
    {
      "cell_type": "code",
      "execution_count": 11,
      "metadata": {
        "id": "At2jpQAji6Bd"
      },
      "outputs": [],
      "source": [
        "tempins = dataset1['instruction'] + dataset2['instruction'] + dataset6['instruction']\n",
        "tempinp = dataset1['input'] + dataset2['input'] + dataset6['input']\n",
        "tempout = dataset1['output'] + dataset2['output'] + dataset6['output']"
      ]
    },
    {
      "cell_type": "code",
      "execution_count": 16,
      "metadata": {
        "colab": {
          "base_uri": "https://localhost:8080/"
        },
        "id": "liWDsUbWkK1m",
        "outputId": "95837524-6eb9-4f90-db40-a21afed226b7"
      },
      "outputs": [
        {
          "name": "stdout",
          "output_type": "stream",
          "text": [
            "190197\n",
            "190197\n",
            "190197\n"
          ]
        }
      ],
      "source": [
        "print(len(tempins))\n",
        "print(len(tempinp))\n",
        "print(len(tempout))\n"
      ]
    },
    {
      "cell_type": "code",
      "execution_count": 18,
      "metadata": {
        "id": "JzcrORj3kUxU"
      },
      "outputs": [],
      "source": [
        "newdataset = pd.DataFrame(\n",
        "{    'instruction': tempins,\n",
        "    'input': tempinp,\n",
        "    'output': tempout}\n",
        ")"
      ]
    },
    {
      "cell_type": "code",
      "execution_count": 19,
      "metadata": {
        "colab": {
          "base_uri": "https://localhost:8080/",
          "height": 206
        },
        "id": "XfRdMzSjlK0Q",
        "outputId": "f7cd6e92-863b-43dc-a8e3-b2f741f053e1"
      },
      "outputs": [
        {
          "data": {
            "application/vnd.google.colaboratory.intrinsic+json": {
              "type": "dataframe",
              "variable_name": "newdataset"
            },
            "text/html": [
              "\n",
              "  <div id=\"df-937b0c94-2c2b-4987-8a71-4e9cb76375bd\" class=\"colab-df-container\">\n",
              "    <div>\n",
              "<style scoped>\n",
              "    .dataframe tbody tr th:only-of-type {\n",
              "        vertical-align: middle;\n",
              "    }\n",
              "\n",
              "    .dataframe tbody tr th {\n",
              "        vertical-align: top;\n",
              "    }\n",
              "\n",
              "    .dataframe thead th {\n",
              "        text-align: right;\n",
              "    }\n",
              "</style>\n",
              "<table border=\"1\" class=\"dataframe\">\n",
              "  <thead>\n",
              "    <tr style=\"text-align: right;\">\n",
              "      <th></th>\n",
              "      <th>instruction</th>\n",
              "      <th>input</th>\n",
              "      <th>output</th>\n",
              "    </tr>\n",
              "  </thead>\n",
              "  <tbody>\n",
              "    <tr>\n",
              "      <th>0</th>\n",
              "      <td>Create a function to calculate the sum of a se...</td>\n",
              "      <td>[1, 2, 3, 4, 5]</td>\n",
              "      <td># Python code\\ndef sum_sequence(sequence):\\n  ...</td>\n",
              "    </tr>\n",
              "    <tr>\n",
              "      <th>1</th>\n",
              "      <td>Develop a function that will add two strings</td>\n",
              "      <td>str1 = \"Hello \"\\nstr2 = \"world\"</td>\n",
              "      <td>def add_strings(str1, str2):\\n    \"\"\"This func...</td>\n",
              "    </tr>\n",
              "    <tr>\n",
              "      <th>2</th>\n",
              "      <td>Design a data structure in C++ to store inform...</td>\n",
              "      <td></td>\n",
              "      <td>#include &lt;map&gt;\\n#include &lt;string&gt;\\n\\nclass Gro...</td>\n",
              "    </tr>\n",
              "    <tr>\n",
              "      <th>3</th>\n",
              "      <td>Implement a sorting algorithm to sort a given ...</td>\n",
              "      <td>[3, 1, 4, 5, 9, 0]</td>\n",
              "      <td>def bubble_sort(arr):\\n    n = len(arr)\\n \\n  ...</td>\n",
              "    </tr>\n",
              "    <tr>\n",
              "      <th>4</th>\n",
              "      <td>Design a Swift application for tracking expens...</td>\n",
              "      <td>Not applicable</td>\n",
              "      <td>import UIKit\\n\\nclass ExpenseViewController: U...</td>\n",
              "    </tr>\n",
              "  </tbody>\n",
              "</table>\n",
              "</div>\n",
              "    <div class=\"colab-df-buttons\">\n",
              "\n",
              "  <div class=\"colab-df-container\">\n",
              "    <button class=\"colab-df-convert\" onclick=\"convertToInteractive('df-937b0c94-2c2b-4987-8a71-4e9cb76375bd')\"\n",
              "            title=\"Convert this dataframe to an interactive table.\"\n",
              "            style=\"display:none;\">\n",
              "\n",
              "  <svg xmlns=\"http://www.w3.org/2000/svg\" height=\"24px\" viewBox=\"0 -960 960 960\">\n",
              "    <path d=\"M120-120v-720h720v720H120Zm60-500h600v-160H180v160Zm220 220h160v-160H400v160Zm0 220h160v-160H400v160ZM180-400h160v-160H180v160Zm440 0h160v-160H620v160ZM180-180h160v-160H180v160Zm440 0h160v-160H620v160Z\"/>\n",
              "  </svg>\n",
              "    </button>\n",
              "\n",
              "  <style>\n",
              "    .colab-df-container {\n",
              "      display:flex;\n",
              "      gap: 12px;\n",
              "    }\n",
              "\n",
              "    .colab-df-convert {\n",
              "      background-color: #E8F0FE;\n",
              "      border: none;\n",
              "      border-radius: 50%;\n",
              "      cursor: pointer;\n",
              "      display: none;\n",
              "      fill: #1967D2;\n",
              "      height: 32px;\n",
              "      padding: 0 0 0 0;\n",
              "      width: 32px;\n",
              "    }\n",
              "\n",
              "    .colab-df-convert:hover {\n",
              "      background-color: #E2EBFA;\n",
              "      box-shadow: 0px 1px 2px rgba(60, 64, 67, 0.3), 0px 1px 3px 1px rgba(60, 64, 67, 0.15);\n",
              "      fill: #174EA6;\n",
              "    }\n",
              "\n",
              "    .colab-df-buttons div {\n",
              "      margin-bottom: 4px;\n",
              "    }\n",
              "\n",
              "    [theme=dark] .colab-df-convert {\n",
              "      background-color: #3B4455;\n",
              "      fill: #D2E3FC;\n",
              "    }\n",
              "\n",
              "    [theme=dark] .colab-df-convert:hover {\n",
              "      background-color: #434B5C;\n",
              "      box-shadow: 0px 1px 3px 1px rgba(0, 0, 0, 0.15);\n",
              "      filter: drop-shadow(0px 1px 2px rgba(0, 0, 0, 0.3));\n",
              "      fill: #FFFFFF;\n",
              "    }\n",
              "  </style>\n",
              "\n",
              "    <script>\n",
              "      const buttonEl =\n",
              "        document.querySelector('#df-937b0c94-2c2b-4987-8a71-4e9cb76375bd button.colab-df-convert');\n",
              "      buttonEl.style.display =\n",
              "        google.colab.kernel.accessAllowed ? 'block' : 'none';\n",
              "\n",
              "      async function convertToInteractive(key) {\n",
              "        const element = document.querySelector('#df-937b0c94-2c2b-4987-8a71-4e9cb76375bd');\n",
              "        const dataTable =\n",
              "          await google.colab.kernel.invokeFunction('convertToInteractive',\n",
              "                                                    [key], {});\n",
              "        if (!dataTable) return;\n",
              "\n",
              "        const docLinkHtml = 'Like what you see? Visit the ' +\n",
              "          '<a target=\"_blank\" href=https://colab.research.google.com/notebooks/data_table.ipynb>data table notebook</a>'\n",
              "          + ' to learn more about interactive tables.';\n",
              "        element.innerHTML = '';\n",
              "        dataTable['output_type'] = 'display_data';\n",
              "        await google.colab.output.renderOutput(dataTable, element);\n",
              "        const docLink = document.createElement('div');\n",
              "        docLink.innerHTML = docLinkHtml;\n",
              "        element.appendChild(docLink);\n",
              "      }\n",
              "    </script>\n",
              "  </div>\n",
              "\n",
              "\n",
              "<div id=\"df-0f24fa6c-521b-41cf-b13d-f6a9e5da7a0b\">\n",
              "  <button class=\"colab-df-quickchart\" onclick=\"quickchart('df-0f24fa6c-521b-41cf-b13d-f6a9e5da7a0b')\"\n",
              "            title=\"Suggest charts\"\n",
              "            style=\"display:none;\">\n",
              "\n",
              "<svg xmlns=\"http://www.w3.org/2000/svg\" height=\"24px\"viewBox=\"0 0 24 24\"\n",
              "     width=\"24px\">\n",
              "    <g>\n",
              "        <path d=\"M19 3H5c-1.1 0-2 .9-2 2v14c0 1.1.9 2 2 2h14c1.1 0 2-.9 2-2V5c0-1.1-.9-2-2-2zM9 17H7v-7h2v7zm4 0h-2V7h2v10zm4 0h-2v-4h2v4z\"/>\n",
              "    </g>\n",
              "</svg>\n",
              "  </button>\n",
              "\n",
              "<style>\n",
              "  .colab-df-quickchart {\n",
              "      --bg-color: #E8F0FE;\n",
              "      --fill-color: #1967D2;\n",
              "      --hover-bg-color: #E2EBFA;\n",
              "      --hover-fill-color: #174EA6;\n",
              "      --disabled-fill-color: #AAA;\n",
              "      --disabled-bg-color: #DDD;\n",
              "  }\n",
              "\n",
              "  [theme=dark] .colab-df-quickchart {\n",
              "      --bg-color: #3B4455;\n",
              "      --fill-color: #D2E3FC;\n",
              "      --hover-bg-color: #434B5C;\n",
              "      --hover-fill-color: #FFFFFF;\n",
              "      --disabled-bg-color: #3B4455;\n",
              "      --disabled-fill-color: #666;\n",
              "  }\n",
              "\n",
              "  .colab-df-quickchart {\n",
              "    background-color: var(--bg-color);\n",
              "    border: none;\n",
              "    border-radius: 50%;\n",
              "    cursor: pointer;\n",
              "    display: none;\n",
              "    fill: var(--fill-color);\n",
              "    height: 32px;\n",
              "    padding: 0;\n",
              "    width: 32px;\n",
              "  }\n",
              "\n",
              "  .colab-df-quickchart:hover {\n",
              "    background-color: var(--hover-bg-color);\n",
              "    box-shadow: 0 1px 2px rgba(60, 64, 67, 0.3), 0 1px 3px 1px rgba(60, 64, 67, 0.15);\n",
              "    fill: var(--button-hover-fill-color);\n",
              "  }\n",
              "\n",
              "  .colab-df-quickchart-complete:disabled,\n",
              "  .colab-df-quickchart-complete:disabled:hover {\n",
              "    background-color: var(--disabled-bg-color);\n",
              "    fill: var(--disabled-fill-color);\n",
              "    box-shadow: none;\n",
              "  }\n",
              "\n",
              "  .colab-df-spinner {\n",
              "    border: 2px solid var(--fill-color);\n",
              "    border-color: transparent;\n",
              "    border-bottom-color: var(--fill-color);\n",
              "    animation:\n",
              "      spin 1s steps(1) infinite;\n",
              "  }\n",
              "\n",
              "  @keyframes spin {\n",
              "    0% {\n",
              "      border-color: transparent;\n",
              "      border-bottom-color: var(--fill-color);\n",
              "      border-left-color: var(--fill-color);\n",
              "    }\n",
              "    20% {\n",
              "      border-color: transparent;\n",
              "      border-left-color: var(--fill-color);\n",
              "      border-top-color: var(--fill-color);\n",
              "    }\n",
              "    30% {\n",
              "      border-color: transparent;\n",
              "      border-left-color: var(--fill-color);\n",
              "      border-top-color: var(--fill-color);\n",
              "      border-right-color: var(--fill-color);\n",
              "    }\n",
              "    40% {\n",
              "      border-color: transparent;\n",
              "      border-right-color: var(--fill-color);\n",
              "      border-top-color: var(--fill-color);\n",
              "    }\n",
              "    60% {\n",
              "      border-color: transparent;\n",
              "      border-right-color: var(--fill-color);\n",
              "    }\n",
              "    80% {\n",
              "      border-color: transparent;\n",
              "      border-right-color: var(--fill-color);\n",
              "      border-bottom-color: var(--fill-color);\n",
              "    }\n",
              "    90% {\n",
              "      border-color: transparent;\n",
              "      border-bottom-color: var(--fill-color);\n",
              "    }\n",
              "  }\n",
              "</style>\n",
              "\n",
              "  <script>\n",
              "    async function quickchart(key) {\n",
              "      const quickchartButtonEl =\n",
              "        document.querySelector('#' + key + ' button');\n",
              "      quickchartButtonEl.disabled = true;  // To prevent multiple clicks.\n",
              "      quickchartButtonEl.classList.add('colab-df-spinner');\n",
              "      try {\n",
              "        const charts = await google.colab.kernel.invokeFunction(\n",
              "            'suggestCharts', [key], {});\n",
              "      } catch (error) {\n",
              "        console.error('Error during call to suggestCharts:', error);\n",
              "      }\n",
              "      quickchartButtonEl.classList.remove('colab-df-spinner');\n",
              "      quickchartButtonEl.classList.add('colab-df-quickchart-complete');\n",
              "    }\n",
              "    (() => {\n",
              "      let quickchartButtonEl =\n",
              "        document.querySelector('#df-0f24fa6c-521b-41cf-b13d-f6a9e5da7a0b button');\n",
              "      quickchartButtonEl.style.display =\n",
              "        google.colab.kernel.accessAllowed ? 'block' : 'none';\n",
              "    })();\n",
              "  </script>\n",
              "</div>\n",
              "\n",
              "    </div>\n",
              "  </div>\n"
            ],
            "text/plain": [
              "                                         instruction  \\\n",
              "0  Create a function to calculate the sum of a se...   \n",
              "1       Develop a function that will add two strings   \n",
              "2  Design a data structure in C++ to store inform...   \n",
              "3  Implement a sorting algorithm to sort a given ...   \n",
              "4  Design a Swift application for tracking expens...   \n",
              "\n",
              "                             input  \\\n",
              "0                  [1, 2, 3, 4, 5]   \n",
              "1  str1 = \"Hello \"\\nstr2 = \"world\"   \n",
              "2                                    \n",
              "3               [3, 1, 4, 5, 9, 0]   \n",
              "4                   Not applicable   \n",
              "\n",
              "                                              output  \n",
              "0  # Python code\\ndef sum_sequence(sequence):\\n  ...  \n",
              "1  def add_strings(str1, str2):\\n    \"\"\"This func...  \n",
              "2  #include <map>\\n#include <string>\\n\\nclass Gro...  \n",
              "3  def bubble_sort(arr):\\n    n = len(arr)\\n \\n  ...  \n",
              "4  import UIKit\\n\\nclass ExpenseViewController: U...  "
            ]
          },
          "execution_count": 19,
          "metadata": {},
          "output_type": "execute_result"
        }
      ],
      "source": [
        "newdataset.head()"
      ]
    },
    {
      "cell_type": "code",
      "execution_count": 20,
      "metadata": {
        "id": "W__fxB2klX75"
      },
      "outputs": [],
      "source": [
        "def generate_prompt(data_point):\n",
        "    \"\"\"\n",
        "\n",
        "        # template = \"Instruction:\\n{instruction}\\n\\nResponse:\\n{response}\"\n",
        "\n",
        "    \"\"\"\n",
        "\n",
        "    prefix_text = 'you are given the following instruction that describes the task.You are required to generate a responce that ' \\\n",
        "               'appropriately completes the request.\\n'\n",
        "    # Samples with additional context into.\n",
        "    if data_point['input'] and data_point['input'] != 'Not Applicable':\n",
        "        text = f\"\"\"Instruction:\\n{prefix_text} {data_point[\"instruction\"]} with the inputs {data_point[\"input\"]}\\n\\nResponse:\\n{data_point[\"output\"]}\"\"\"\n",
        "    # Without\n",
        "    else:\n",
        "        text = f\"\"\"Instruction:\\n{prefix_text} {data_point[\"instruction\"]}\\n\\nResponse:\\n{data_point[\"output\"]}\"\"\"\n",
        "    return text\n"
      ]
    },
    {
      "cell_type": "code",
      "execution_count": 26,
      "metadata": {
        "id": "OCy4RuL0mYGe"
      },
      "outputs": [],
      "source": [
        "import pandas as pd\n",
        "\n",
        "# Assuming tempins, tempinp, and tempout are lists containing data for 'instruction', 'input', and 'output' respectively\n",
        "\n",
        "# Create a DataFrame\n",
        "newdataset = pd.DataFrame({\n",
        "    'instruction': tempins,\n",
        "    'input': tempinp,\n",
        "    'output': tempout\n",
        "})\n",
        "\n",
        "# Define the generate_prompt function\n",
        "def generate_prompt(data_point):\n",
        "    prefix_text = 'you are given the following instruction that describes the task.You are required to Write a python code that ' \\\n",
        "               'appropriately completes the request.\\n'\n",
        "    # Samples with additional context.\n",
        "    if data_point['input'] and data_point['input'] != 'Not Applicable':\n",
        "        text = f\"\"\"Instruction:\\n{prefix_text} {data_point[\"instruction\"]} with the inputs {data_point[\"input\"]}\\n\\nResponse:\\n{data_point[\"output\"]}\"\"\"\n",
        "    # Without additional context.\n",
        "    else:\n",
        "        text = f\"\"\"Instruction:\\n{prefix_text} {data_point[\"instruction\"]}\\n\\nResponse:\\n{data_point[\"output\"]}\"\"\"\n",
        "    return text\n",
        "    \n",
        "\n",
        "# Apply generate_prompt function to each row in the DataFrame\n",
        "promptnewdataset = [generate_prompt(data_point) for index, data_point in newdataset.iterrows()]\n",
        "\n",
        "# Print or use the resulting list\n",
        "# print(promptnewdataset)\n"
      ]
    },
    {
      "cell_type": "code",
      "execution_count": null,
      "metadata": {
        "id": "X_NjuvlSn-Pb"
      },
      "outputs": [],
      "source": [
        "promptnewdataset = set(promptnewdataset)"
      ]
    },
    {
      "cell_type": "code",
      "execution_count": 32,
      "metadata": {
        "colab": {
          "base_uri": "https://localhost:8080/"
        },
        "id": "xNomHx_fnDxU",
        "outputId": "1978a2cb-e93f-43d6-ba59-99877a089310"
      },
      "outputs": [
        {
          "name": "stdout",
          "output_type": "stream",
          "text": [
            "DataFrame saved to 'prompts2.csv'\n"
          ]
        }
      ],
      "source": [
        "import pandas as pd\n",
        "\n",
        "# Assuming promptnewdataset is the list containing the prompts\n",
        "\n",
        "# Convert the list to a DataFrame\n",
        "prompt_df = pd.DataFrame({'Prompt': promptnewdataset})\n",
        "\n",
        "# Define the file path for the CSV file\n",
        "csv_file_path = 'prompts2.csv'\n",
        "\n",
        "# Save the DataFrame to a CSV file\n",
        "prompt_df.to_csv(csv_file_path, index=False)\n",
        "\n",
        "# Display a message indicating the file is saved\n",
        "print(f\"DataFrame saved to '{csv_file_path}'\")\n"
      ]
    },
    {
      "cell_type": "markdown",
      "metadata": {
        "id": "WrRU27S_qsvL"
      },
      "source": [
        "WORKING WITH **DATASET4**"
      ]
    },
    {
      "cell_type": "code",
      "execution_count": 40,
      "metadata": {
        "colab": {
          "base_uri": "https://localhost:8080/"
        },
        "id": "euIMTn6Unzns",
        "outputId": "6168813d-8d62-44cc-fb52-87b9918c32f3"
      },
      "outputs": [
        {
          "name": "stdout",
          "output_type": "stream",
          "text": [
            "22608\n",
            "22608\n"
          ]
        }
      ],
      "source": [
        "from datasets import load_dataset\n",
        "import pandas as pd\n",
        "\n",
        "# Load the dataset\n",
        "dataset = load_dataset(\"ajibawa-2023/Python-Code-23k-ShareGPT\", split=\"train\")\n",
        "\n",
        "# Initialize lists to store 'user' and 'gpt' values\n",
        "user_values = []\n",
        "gpt_values = []\n",
        "\n",
        "# Extract 'user' and 'gpt' values\n",
        "for conversation in dataset:\n",
        "    for message in conversation['conversations']:\n",
        "        if message.get('from') == 'human':  # Use .get() to safely access 'from'\n",
        "            user_values.append(message['value'])\n",
        "        elif message.get('from') == 'gpt':\n",
        "            gpt_values.append(message['value'])\n",
        "\n",
        "# Create DataFrame with 'user' and 'gpt' columns\n",
        "df = pd.DataFrame({'humans': user_values, 'gpt': gpt_values})\n",
        "\n",
        "# Display the DataFrame\n",
        "print(len(df['humans']))\n",
        "print(len(df['gpt']))"
      ]
    },
    {
      "cell_type": "code",
      "execution_count": 41,
      "metadata": {
        "colab": {
          "base_uri": "https://localhost:8080/",
          "height": 105
        },
        "id": "Kw81GVOtrF5U",
        "outputId": "7fd14ac5-553b-40ea-d8a3-77f73e704b71"
      },
      "outputs": [
        {
          "data": {
            "application/vnd.google.colaboratory.intrinsic+json": {
              "type": "string"
            },
            "text/plain": [
              "'Here is an example of a nested loop in Python to print every combination of numbers between 0-9, excluding any combination that contains the number 5 or repeating digits:\\n\\n```python\\nfor i in range(10):  # First digit\\n    for j in range(10):  # Second digit\\n        for k in range(10):  # Third digit\\n            # Checking for the conditions\\n            if i != 5 and j != 5 and k != 5 and i != j and i != k and j != k:\\n                print(i, j, k)\\n```\\n\\nThis code will generate and print every combination of three digits between 0-9 that do not contain the number 5 and do not have any repeating digits.'"
            ]
          },
          "execution_count": 41,
          "metadata": {},
          "output_type": "execute_result"
        }
      ],
      "source": [
        "df['humans'][0]\n",
        "df['gpt'][0]\n"
      ]
    },
    {
      "cell_type": "code",
      "execution_count": 45,
      "metadata": {
        "id": "075SsyotrL_x"
      },
      "outputs": [],
      "source": [
        "def generate_prompt(data_point):\n",
        "    \"\"\"\n",
        "\n",
        "        # template = \"Instruction:\\n{instruction}\\n\\nResponse:\\n{response}\"\n",
        "\n",
        "    \"\"\"\n",
        "\n",
        "    prefix_text = 'you are given the following instruction that describes the task.You are required to generate a responce that ' \\\n",
        "               'appropriately completes the request.\\n'\n",
        "    # Samples with additional context into.\n",
        "    if data_point['humans'] :\n",
        "        text = f\"\"\"Instruction:\\n{prefix_text} {data_point[\"humans\"]}\\n\\nResponse:\\n{data_point[\"gpt\"]}\"\"\"\n",
        "\n",
        "    return text\n"
      ]
    },
    {
      "cell_type": "code",
      "execution_count": 47,
      "metadata": {
        "id": "bE4LSJjqr4LG"
      },
      "outputs": [],
      "source": [
        "# newprompt = [generate_prompt(data_point) for data_point in df]\n",
        "newprompt = [generate_prompt(data_point) for index, data_point in df.iterrows()]\n",
        "\n"
      ]
    },
    {
      "cell_type": "code",
      "execution_count": 38,
      "metadata": {
        "colab": {
          "base_uri": "https://localhost:8080/"
        },
        "id": "R6XvXPM1sI0q",
        "outputId": "30287336-6db1-4c8f-a2d2-621417b2f4fd"
      },
      "outputs": [
        {
          "data": {
            "text/plain": [
              "Dataset({\n",
              "    features: ['id', 'conversations'],\n",
              "    num_rows: 22608\n",
              "})"
            ]
          },
          "execution_count": 38,
          "metadata": {},
          "output_type": "execute_result"
        }
      ],
      "source": [
        "dataset"
      ]
    },
    {
      "cell_type": "code",
      "execution_count": 48,
      "metadata": {
        "colab": {
          "base_uri": "https://localhost:8080/"
        },
        "id": "UrhNUXO_sJuC",
        "outputId": "5374866c-67d4-4ab0-c7b9-cc2d5a5ff574"
      },
      "outputs": [
        {
          "data": {
            "text/plain": [
              "22608"
            ]
          },
          "execution_count": 48,
          "metadata": {},
          "output_type": "execute_result"
        }
      ],
      "source": [
        "len(newprompt)"
      ]
    },
    {
      "cell_type": "code",
      "execution_count": 49,
      "metadata": {
        "colab": {
          "base_uri": "https://localhost:8080/"
        },
        "id": "_IxdupqztRbN",
        "outputId": "0f5fb7a0-9b34-4389-afeb-eedace2fb31a"
      },
      "outputs": [
        {
          "name": "stdout",
          "output_type": "stream",
          "text": [
            "DataFrame saved to 'prompts_humanvsgpt.csv'\n"
          ]
        }
      ],
      "source": [
        "import pandas as pd\n",
        "\n",
        "# Assuming promptnewdataset is the list containing the prompts\n",
        "\n",
        "# Convert the list to a DataFrame\n",
        "prompt_df = pd.DataFrame({'Prompt': newprompt})\n",
        "\n",
        "# Define the file path for the CSV file\n",
        "csv_file_path = 'prompts_humanvsgpt.csv'\n",
        "\n",
        "# Save the DataFrame to a CSV file\n",
        "prompt_df.to_csv(csv_file_path, index=False)\n",
        "\n",
        "# Display a message indicating the file is saved\n",
        "print(f\"DataFrame saved to '{csv_file_path}'\")\n"
      ]
    },
    {
      "cell_type": "markdown",
      "metadata": {
        "id": "nH9LYzIztfkt"
      },
      "source": [
        "**WORKING WITH DATASET 3**"
      ]
    },
    {
      "cell_type": "code",
      "execution_count": 51,
      "metadata": {
        "id": "yzex98sFtqKi"
      },
      "outputs": [],
      "source": [
        "# Assuming 'dataset' is your Dataset object\n",
        "text = []\n",
        "# Iterate over each row of the dataset\n",
        "for row in dataset3:\n",
        "    # Extract values from the 'start', 'code', and 'end' columns\n",
        "    start = row['start']\n",
        "    code = row['code']\n",
        "    end = row['end']\n",
        "\n",
        "    # Format the output string\n",
        "    output_string = f\"You are given the following instruction that describes the task.\\n\" \\\n",
        "                    f\"You are required to write the output of the '{start}' after applying:\\n\" \\\n",
        "                    f\"{code}\\n\\n\" \\\n",
        "                    f\"Response:\\n{end}\"\n",
        "\n",
        "    # Print or store the formatted output\n",
        "    text.append(output_string)\n"
      ]
    },
    {
      "cell_type": "code",
      "execution_count": 52,
      "metadata": {
        "colab": {
          "base_uri": "https://localhost:8080/"
        },
        "id": "u-QpwwtutzlO",
        "outputId": "7f568867-625c-443f-eee7-7a4533c13f17"
      },
      "outputs": [
        {
          "name": "stdout",
          "output_type": "stream",
          "text": [
            "Dataset({\n",
            "    features: ['start', 'code', 'end'],\n",
            "    num_rows: 8960896\n",
            "})\n"
          ]
        }
      ],
      "source": [
        "print(dataset3)"
      ]
    },
    {
      "cell_type": "code",
      "execution_count": 53,
      "metadata": {
        "colab": {
          "base_uri": "https://localhost:8080/"
        },
        "id": "IfHxQrust2hb",
        "outputId": "140afed9-0c80-447e-f954-2ce7e6693069"
      },
      "outputs": [
        {
          "data": {
            "text/plain": [
              "8960896"
            ]
          },
          "execution_count": 53,
          "metadata": {},
          "output_type": "execute_result"
        }
      ],
      "source": [
        "len(text)"
      ]
    },
    {
      "cell_type": "code",
      "execution_count": 54,
      "metadata": {
        "colab": {
          "base_uri": "https://localhost:8080/"
        },
        "id": "3hEn83SSuEcy",
        "outputId": "a004a7a8-0d9f-443a-8587-107a526e75e2"
      },
      "outputs": [
        {
          "name": "stdout",
          "output_type": "stream",
          "text": [
            "DataFrame saved to 'prompts_strtcodeend.csv'\n"
          ]
        }
      ],
      "source": [
        "import pandas as pd\n",
        "\n",
        "# Assuming promptnewdataset is the list containing the prompts\n",
        "\n",
        "# Convert the list to a DataFrame\n",
        "prompt_df = pd.DataFrame({'Prompt': text})\n",
        "\n",
        "# Define the file path for the CSV file\n",
        "csv_file_path = 'prompts_strtcodeend.csv'\n",
        "\n",
        "# Save the DataFrame to a CSV file\n",
        "prompt_df.to_csv(csv_file_path, index=False)\n",
        "\n",
        "# Display a message indicating the file is saved\n",
        "print(f\"DataFrame saved to '{csv_file_path}'\")\n"
      ]
    },
    {
      "cell_type": "markdown",
      "metadata": {
        "id": "hopM8KFivvrR"
      },
      "source": [
        "**working with dataset5**"
      ]
    },
    {
      "cell_type": "code",
      "execution_count": 55,
      "metadata": {
        "colab": {
          "base_uri": "https://localhost:8080/"
        },
        "id": "7yNdoetqwHOA",
        "outputId": "51ad7c72-05ec-412f-e022-a394a44f066a"
      },
      "outputs": [
        {
          "data": {
            "text/plain": [
              "Dataset({\n",
              "    features: ['Unnamed: 0', 'train'],\n",
              "    num_rows: 10198\n",
              "})"
            ]
          },
          "execution_count": 55,
          "metadata": {},
          "output_type": "execute_result"
        }
      ],
      "source": [
        "dataset5"
      ]
    },
    {
      "cell_type": "code",
      "execution_count": null,
      "metadata": {
        "id": "g7_VNw7AwIm0"
      },
      "outputs": [],
      "source": [
        "dataset5['train'][0]"
      ]
    },
    {
      "cell_type": "code",
      "execution_count": 57,
      "metadata": {
        "id": "oGEtF1DowOHr"
      },
      "outputs": [],
      "source": [
        "prompts = dataset5['train']\n",
        "df = pd.DataFrame({\n",
        "    'promt': prompts\n",
        "})"
      ]
    },
    {
      "cell_type": "code",
      "execution_count": 58,
      "metadata": {
        "colab": {
          "base_uri": "https://localhost:8080/"
        },
        "id": "cu28Z_2twjSY",
        "outputId": "f94e87dc-d952-4005-f03f-35870b6fb1cb"
      },
      "outputs": [
        {
          "name": "stdout",
          "output_type": "stream",
          "text": [
            "DataFrame saved to 'prompts_train.csv'\n"
          ]
        }
      ],
      "source": [
        "\n",
        "# Define the file path for the CSV file\n",
        "csv_file_path = 'prompts_train.csv'\n",
        "\n",
        "# Save the DataFrame to a CSV file\n",
        "df.to_csv(csv_file_path, index=False)\n",
        "\n",
        "# Display a message indicating the file is saved\n",
        "print(f\"DataFrame saved to '{csv_file_path}'\")\n"
      ]
    },
    {
      "cell_type": "code",
      "execution_count": 59,
      "metadata": {
        "id": "GQxF5Y57w2vs"
      },
      "outputs": [],
      "source": [
        "x = pd.read_csv(\"prompts_train.csv\")"
      ]
    },
    {
      "cell_type": "markdown",
      "metadata": {
        "id": "RfVhYSMJxN2w"
      },
      "source": [
        "**working with dataset7 and dataset8**"
      ]
    },
    {
      "cell_type": "code",
      "execution_count": 63,
      "metadata": {
        "colab": {
          "base_uri": "https://localhost:8080/"
        },
        "id": "G1CYyA-hxXxE",
        "outputId": "760add28-843b-4c23-aa40-f24726f8a50b"
      },
      "outputs": [
        {
          "data": {
            "text/plain": [
              "Dataset({\n",
              "    features: ['Unnamed: 0', 'repository_name', 'func_path_in_repository', 'func_name', 'whole_func_string', 'language', 'func_code_string', 'func_code_tokens', 'func_documentation_string', 'func_documentation_tokens', 'split_name', 'func_code_url'],\n",
              "    num_rows: 10000\n",
              "})"
            ]
          },
          "execution_count": 63,
          "metadata": {},
          "output_type": "execute_result"
        }
      ],
      "source": [
        "dataset7"
      ]
    },
    {
      "cell_type": "code",
      "execution_count": 75,
      "metadata": {
        "colab": {
          "base_uri": "https://localhost:8080/"
        },
        "id": "kt9x40t8xbwF",
        "outputId": "e9b88cc3-57ac-4e73-8efe-306dfb2be439"
      },
      "outputs": [
        {
          "data": {
            "text/plain": [
              "Dataset({\n",
              "    features: ['prompt', 'response'],\n",
              "    num_rows: 296837\n",
              "})"
            ]
          },
          "execution_count": 75,
          "metadata": {},
          "output_type": "execute_result"
        }
      ],
      "source": [
        "dataset8"
      ]
    },
    {
      "cell_type": "code",
      "execution_count": 77,
      "metadata": {
        "id": "FOnhuXzhxcsi"
      },
      "outputs": [],
      "source": [
        "# //dataset 8 first\n",
        "\n",
        "prompt = dataset8['prompt']\n",
        "response = dataset8['response']\n",
        "\n",
        "df =  pd.DataFrame({\n",
        "    'prompt': prompt,\n",
        "    'response': response\n",
        "})\n"
      ]
    },
    {
      "cell_type": "code",
      "execution_count": 78,
      "metadata": {
        "id": "GCx7YWIcxwIG"
      },
      "outputs": [],
      "source": [
        "def generate_prompt(data_point):\n",
        "    \"\"\"\n",
        "\n",
        "        # template = \"Instruction:\\n{instruction}\\n\\nResponse:\\n{response}\"\n",
        "\n",
        "    \"\"\"\n",
        "\n",
        "    prefix_text = 'you are given the following instruction that describes the task.You are required to generate a responce that ' \\\n",
        "               'appropriately completes the request.\\n'\n",
        "    # Samples with additional context into.\n",
        "    # if data_point['prompt'] :\n",
        "    text = f\"\"\"Instruction:\\n{prefix_text} {data_point[\"prompt\"]}\\n\\nResponse:\\n{data_point[\"response\"]}\"\"\"\n",
        "\n",
        "    return text\n"
      ]
    },
    {
      "cell_type": "code",
      "execution_count": 79,
      "metadata": {
        "id": "R90J22O8yD5m"
      },
      "outputs": [],
      "source": [
        "# newprompt = [generate_prompt(data_point) for data_point in df]\n",
        "newpromptdataset8 = [generate_prompt(data_point) for index, data_point in df.iterrows()]\n"
      ]
    },
    {
      "cell_type": "code",
      "execution_count": 81,
      "metadata": {
        "colab": {
          "base_uri": "https://localhost:8080/",
          "height": 140
        },
        "id": "cCAoHmPDyOU3",
        "outputId": "7fc020b2-d63b-466e-d60c-2ca843530b42"
      },
      "outputs": [
        {
          "data": {
            "application/vnd.google.colaboratory.intrinsic+json": {
              "type": "string"
            },
            "text/plain": [
              "'Instruction:\\nyou are given the following instruction that describes the task.You are required to generate a responce that appropriately completes the request.\\n Create a nested loop to print every combination of numbers between 0-9, excluding any combination that contains the number 5. Additionally, exclude any combination that contains a repeating digit. Implement the solution without using any built-in functions or libraries to check for repeating digits.\\n\\nResponse:\\nHere is an example of a nested loop in Python to print every combination of numbers between 0-9, excluding any combination that contains the number 5 or repeating digits:\\n\\n```python\\nfor i in range(10):  # First digit\\n    for j in range(10):  # Second digit\\n        for k in range(10):  # Third digit\\n            # Checking for the conditions\\n            if i != 5 and j != 5 and k != 5 and i != j and i != k and j != k:\\n                print(i, j, k)\\n```\\n\\nThis code will generate and print every combination of three digits between 0-9 that do not contain the number 5 and do not have any repeating digits.'"
            ]
          },
          "execution_count": 81,
          "metadata": {},
          "output_type": "execute_result"
        }
      ],
      "source": [
        "newpromptdataset8[0]"
      ]
    },
    {
      "cell_type": "code",
      "execution_count": 82,
      "metadata": {
        "id": "le8HSs8pES0_"
      },
      "outputs": [],
      "source": [
        "df = pd.DataFrame({\n",
        "    'prompts': newpromptdataset8\n",
        "})\n",
        "\n",
        "df.to_csv(\"prompts_ds8\", index= False)"
      ]
    },
    {
      "cell_type": "code",
      "execution_count": 98,
      "metadata": {
        "colab": {
          "base_uri": "https://localhost:8080/",
          "height": 36
        },
        "id": "iYxeOtnJEzNt",
        "outputId": "ff8ec4d8-d9cd-4ff0-de88-ed65074a4620"
      },
      "outputs": [
        {
          "data": {
            "application/vnd.google.colaboratory.intrinsic+json": {
              "type": "string"
            },
            "text/plain": [
              "'Computes the width of a model and sets up appropriate padding\\n    for Tabs and DataTable types.'"
            ]
          },
          "execution_count": 98,
          "metadata": {},
          "output_type": "execute_result"
        }
      ],
      "source": [
        "dataset7['func_documentation_string'][400]"
      ]
    },
    {
      "cell_type": "code",
      "execution_count": 94,
      "metadata": {
        "id": "Hiz7Ie-KE9pp"
      },
      "outputs": [],
      "source": [
        "text = dataset7['func_documentation_string']\n",
        "functions = dataset7['func_code_string']"
      ]
    },
    {
      "cell_type": "code",
      "execution_count": 95,
      "metadata": {
        "id": "_7aOqDBCFafm"
      },
      "outputs": [],
      "source": [
        "df = pd.DataFrame({\n",
        "    'text': text,\n",
        "    'functions': functions\n",
        "})\n"
      ]
    },
    {
      "cell_type": "code",
      "execution_count": 103,
      "metadata": {
        "id": "-51WfU48F09l"
      },
      "outputs": [],
      "source": [
        "def generate_prompt(data_point):\n",
        "    \"\"\"\n",
        "\n",
        "        # template = \"Instruction:\\n{instruction}\\n\\nResponse:\\n{response}\"\n",
        "\n",
        "    \"\"\"\n",
        "\n",
        "    prefix_text = 'you are given the following instruction that describes the task.You are required to generate a responce that ' \\\n",
        "               'appropriately completes the request which is to.\\n'\n",
        "    # Samples with additional context into.\n",
        "    # if data_point['prompt'] :\n",
        "    text = f\"\"\"Instruction:\\n{prefix_text} {data_point[\"text\"]}\\n\\nResponse:\\n{data_point[\"functions\"]}\"\"\"\n",
        "\n",
        "    return text\n"
      ]
    },
    {
      "cell_type": "code",
      "execution_count": 104,
      "metadata": {
        "id": "0HbNQVUIF-o0"
      },
      "outputs": [],
      "source": [
        "newpromptdataset7 = [generate_prompt(data_point) for index, data_point in df.iterrows()]\n"
      ]
    },
    {
      "cell_type": "code",
      "execution_count": 105,
      "metadata": {
        "id": "xkjuSUsrIc-a"
      },
      "outputs": [],
      "source": [
        "df = pd.DataFrame({\n",
        "    'prompt': newpromptdataset7\n",
        "})\n",
        "\n",
        "df.to_csv('ds7.csv', index = False)"
      ]
    },
    {
      "cell_type": "code",
      "execution_count": null,
      "metadata": {
        "id": "4ONlbBDHI8Hd"
      },
      "outputs": [],
      "source": []
    }
  ],
  "metadata": {
    "colab": {
      "provenance": []
    },
    "kernelspec": {
      "display_name": "Python 3",
      "name": "python3"
    },
    "language_info": {
      "name": "python"
    }
  },
  "nbformat": 4,
  "nbformat_minor": 0
}
